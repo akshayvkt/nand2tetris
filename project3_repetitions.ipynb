{
 "cells": [
  {
   "cell_type": "code",
   "execution_count": 5,
   "id": "011506dc-6230-452a-9bd7-7db1fb14094e",
   "metadata": {},
   "outputs": [
    {
     "name": "stdout",
     "output_type": "stream",
     "text": [
      "\n",
      "    Mux(a=out0dff,b=in[0],sel=load,out=outmux0);\n",
      "    DFF(in=outmux0,out=out[0],out=out0dff);\n",
      "\n",
      "    Mux(a=out1dff,b=in[1],sel=load,out=outmux1);\n",
      "    DFF(in=outmux1,out=out[1],out=out1dff);\n",
      "\n",
      "    Mux(a=out2dff,b=in[2],sel=load,out=outmux2);\n",
      "    DFF(in=outmux2,out=out[2],out=out2dff);\n",
      "\n",
      "    Mux(a=out3dff,b=in[3],sel=load,out=outmux3);\n",
      "    DFF(in=outmux3,out=out[3],out=out3dff);\n",
      "\n",
      "    Mux(a=out4dff,b=in[4],sel=load,out=outmux4);\n",
      "    DFF(in=outmux4,out=out[4],out=out4dff);\n",
      "\n",
      "    Mux(a=out5dff,b=in[5],sel=load,out=outmux5);\n",
      "    DFF(in=outmux5,out=out[5],out=out5dff);\n",
      "\n",
      "    Mux(a=out6dff,b=in[6],sel=load,out=outmux6);\n",
      "    DFF(in=outmux6,out=out[6],out=out6dff);\n",
      "\n",
      "    Mux(a=out7dff,b=in[7],sel=load,out=outmux7);\n",
      "    DFF(in=outmux7,out=out[7],out=out7dff);\n",
      "\n",
      "    Mux(a=out8dff,b=in[8],sel=load,out=outmux8);\n",
      "    DFF(in=outmux8,out=out[8],out=out8dff);\n",
      "\n",
      "    Mux(a=out9dff,b=in[9],sel=load,out=outmux9);\n",
      "    DFF(in=outmux9,out=out[9],out=out9dff);\n",
      "\n",
      "    Mux(a=out10dff,b=in[10],sel=load,out=outmux10);\n",
      "    DFF(in=outmux10,out=out[10],out=out10dff);\n",
      "\n",
      "    Mux(a=out11dff,b=in[11],sel=load,out=outmux11);\n",
      "    DFF(in=outmux11,out=out[11],out=out11dff);\n",
      "\n",
      "    Mux(a=out12dff,b=in[12],sel=load,out=outmux12);\n",
      "    DFF(in=outmux12,out=out[12],out=out12dff);\n",
      "\n",
      "    Mux(a=out13dff,b=in[13],sel=load,out=outmux13);\n",
      "    DFF(in=outmux13,out=out[13],out=out13dff);\n",
      "\n",
      "    Mux(a=out14dff,b=in[14],sel=load,out=outmux14);\n",
      "    DFF(in=outmux14,out=out[14],out=out14dff);\n",
      "\n",
      "    Mux(a=out15dff,b=in[15],sel=load,out=outmux15);\n",
      "    DFF(in=outmux15,out=out[15],out=out15dff);\n"
     ]
    }
   ],
   "source": [
    "for i in range(16):\n",
    "    print(f\"\"\"\n",
    "    Mux(a=out{i}dff,b=in[{i}],sel=load,out=outmux{i});\n",
    "    DFF(in=outmux{i},out=out[{i}],out=out{i}dff);\"\"\")"
   ]
  },
  {
   "cell_type": "code",
   "execution_count": null,
   "id": "ff511072-477d-4599-94e1-faa6f84d3a59",
   "metadata": {},
   "outputs": [],
   "source": []
  }
 ],
 "metadata": {
  "kernelspec": {
   "display_name": "Python 3 (ipykernel)",
   "language": "python",
   "name": "python3"
  },
  "language_info": {
   "codemirror_mode": {
    "name": "ipython",
    "version": 3
   },
   "file_extension": ".py",
   "mimetype": "text/x-python",
   "name": "python",
   "nbconvert_exporter": "python",
   "pygments_lexer": "ipython3",
   "version": "3.11.4"
  }
 },
 "nbformat": 4,
 "nbformat_minor": 5
}
