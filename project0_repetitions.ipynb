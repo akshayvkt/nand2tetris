{
 "cells": [
  {
   "cell_type": "markdown",
   "id": "377d27a9-cb8c-4a2f-8d39-5f6a2d033e7a",
   "metadata": {},
   "source": [
    "### Mux16"
   ]
  },
  {
   "cell_type": "code",
   "execution_count": 8,
   "id": "78341781-81bc-4c69-b634-7fde88d3d664",
   "metadata": {
    "collapsed": true,
    "jupyter": {
     "outputs_hidden": true
    },
    "tags": []
   },
   "outputs": [
    {
     "name": "stdout",
     "output_type": "stream",
     "text": [
      "\n",
      "    Or(a=a[0],b=sel,out=int01);\n",
      "    Or(a=b[0],b=notSel,out=int02);\n",
      "    And(a=int01,b=int02,out=out[0]);\n",
      "    \n",
      "\n",
      "    Or(a=a[1],b=sel,out=int11);\n",
      "    Or(a=b[1],b=notSel,out=int12);\n",
      "    And(a=int11,b=int12,out=out[1]);\n",
      "    \n",
      "\n",
      "    Or(a=a[2],b=sel,out=int21);\n",
      "    Or(a=b[2],b=notSel,out=int22);\n",
      "    And(a=int21,b=int22,out=out[2]);\n",
      "    \n",
      "\n",
      "    Or(a=a[3],b=sel,out=int31);\n",
      "    Or(a=b[3],b=notSel,out=int32);\n",
      "    And(a=int31,b=int32,out=out[3]);\n",
      "    \n",
      "\n",
      "    Or(a=a[4],b=sel,out=int41);\n",
      "    Or(a=b[4],b=notSel,out=int42);\n",
      "    And(a=int41,b=int42,out=out[4]);\n",
      "    \n",
      "\n",
      "    Or(a=a[5],b=sel,out=int51);\n",
      "    Or(a=b[5],b=notSel,out=int52);\n",
      "    And(a=int51,b=int52,out=out[5]);\n",
      "    \n",
      "\n",
      "    Or(a=a[6],b=sel,out=int61);\n",
      "    Or(a=b[6],b=notSel,out=int62);\n",
      "    And(a=int61,b=int62,out=out[6]);\n",
      "    \n",
      "\n",
      "    Or(a=a[7],b=sel,out=int71);\n",
      "    Or(a=b[7],b=notSel,out=int72);\n",
      "    And(a=int71,b=int72,out=out[7]);\n",
      "    \n",
      "\n",
      "    Or(a=a[8],b=sel,out=int81);\n",
      "    Or(a=b[8],b=notSel,out=int82);\n",
      "    And(a=int81,b=int82,out=out[8]);\n",
      "    \n",
      "\n",
      "    Or(a=a[9],b=sel,out=int91);\n",
      "    Or(a=b[9],b=notSel,out=int92);\n",
      "    And(a=int91,b=int92,out=out[9]);\n",
      "    \n",
      "\n",
      "    Or(a=a[10],b=sel,out=int101);\n",
      "    Or(a=b[10],b=notSel,out=int102);\n",
      "    And(a=int101,b=int102,out=out[10]);\n",
      "    \n",
      "\n",
      "    Or(a=a[11],b=sel,out=int111);\n",
      "    Or(a=b[11],b=notSel,out=int112);\n",
      "    And(a=int111,b=int112,out=out[11]);\n",
      "    \n",
      "\n",
      "    Or(a=a[12],b=sel,out=int121);\n",
      "    Or(a=b[12],b=notSel,out=int122);\n",
      "    And(a=int121,b=int122,out=out[12]);\n",
      "    \n",
      "\n",
      "    Or(a=a[13],b=sel,out=int131);\n",
      "    Or(a=b[13],b=notSel,out=int132);\n",
      "    And(a=int131,b=int132,out=out[13]);\n",
      "    \n",
      "\n",
      "    Or(a=a[14],b=sel,out=int141);\n",
      "    Or(a=b[14],b=notSel,out=int142);\n",
      "    And(a=int141,b=int142,out=out[14]);\n",
      "    \n",
      "\n",
      "    Or(a=a[15],b=sel,out=int151);\n",
      "    Or(a=b[15],b=notSel,out=int152);\n",
      "    And(a=int151,b=int152,out=out[15]);\n",
      "    \n"
     ]
    }
   ],
   "source": [
    "#The body for Mux16 minus the standalone Not \n",
    "for i in range(16):\n",
    "    print(f\"\"\"\n",
    "    Or(a=a[{i}],b=sel,out=int{i}{1});\n",
    "    Or(a=b[{i}],b=notSel,out=int{i}{2});\n",
    "    And(a=int{i}{1},b=int{i}{2},out=out[{i}]);\n",
    "    \"\"\")"
   ]
  },
  {
   "cell_type": "markdown",
   "id": "e09eb78a-7097-4dc9-8ec6-26adc20df300",
   "metadata": {},
   "source": [
    "### ALU.hdl"
   ]
  },
  {
   "cell_type": "code",
   "execution_count": 32,
   "id": "f931e158-af08-43fb-ae35-dddb17603e12",
   "metadata": {},
   "outputs": [
    {
     "name": "stdout",
     "output_type": "stream",
     "text": [
      "out[0]=ef0\n",
      "out[1]=ef1\n",
      "out[2]=ef2\n",
      "out[3]=ef3\n",
      "out[4]=ef4\n",
      "out[5]=ef5\n",
      "out[6]=ef6\n",
      "out[7]=ef7\n",
      "out[8]=ef8\n",
      "out[9]=ef9\n",
      "out[10]=ef10\n",
      "out[11]=ef11\n",
      "out[12]=ef12\n",
      "out[13]=ef13\n",
      "out[14]=ef14\n"
     ]
    }
   ],
   "source": [
    "for i in range(15):\n",
    "    print(f\"\"\"out[{i}]=ef{i}\"\"\")"
   ]
  },
  {
   "cell_type": "code",
   "execution_count": 33,
   "id": "b3d8476b-4dc7-44c6-a76b-8766e6bf6468",
   "metadata": {},
   "outputs": [
    {
     "name": "stdout",
     "output_type": "stream",
     "text": [
      "Or(a=or0,b=ef1,out=or1);\n",
      "Or(a=or1,b=ef2,out=or2);\n",
      "Or(a=or2,b=ef3,out=or3);\n",
      "Or(a=or3,b=ef4,out=or4);\n",
      "Or(a=or4,b=ef5,out=or5);\n",
      "Or(a=or5,b=ef6,out=or6);\n",
      "Or(a=or6,b=ef7,out=or7);\n",
      "Or(a=or7,b=ef8,out=or8);\n",
      "Or(a=or8,b=ef9,out=or9);\n",
      "Or(a=or9,b=ef10,out=or10);\n",
      "Or(a=or10,b=ef11,out=or11);\n",
      "Or(a=or11,b=ef12,out=or12);\n",
      "Or(a=or12,b=ef13,out=or13);\n",
      "Or(a=or13,b=ef14,out=or14);\n",
      "Or(a=or14,b=ef15,out=or15);\n"
     ]
    }
   ],
   "source": [
    "for i in range(15):\n",
    "    print(f\"\"\"Or(a=or{i},b=ef{i+1},out=or{i+1});\"\"\")\n",
    "    "
   ]
  },
  {
   "cell_type": "code",
   "execution_count": null,
   "id": "93422894-3b47-4585-9b0f-163b64857076",
   "metadata": {},
   "outputs": [],
   "source": []
  }
 ],
 "metadata": {
  "kernelspec": {
   "display_name": "Python 3 (ipykernel)",
   "language": "python",
   "name": "python3"
  },
  "language_info": {
   "codemirror_mode": {
    "name": "ipython",
    "version": 3
   },
   "file_extension": ".py",
   "mimetype": "text/x-python",
   "name": "python",
   "nbconvert_exporter": "python",
   "pygments_lexer": "ipython3",
   "version": "3.11.4"
  }
 },
 "nbformat": 4,
 "nbformat_minor": 5
}
