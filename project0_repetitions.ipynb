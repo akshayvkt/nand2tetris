{
 "cells": [
  {
   "cell_type": "markdown",
   "id": "377d27a9-cb8c-4a2f-8d39-5f6a2d033e7a",
   "metadata": {},
   "source": [
    "### Mux16"
   ]
  },
  {
   "cell_type": "code",
   "execution_count": 8,
   "id": "78341781-81bc-4c69-b634-7fde88d3d664",
   "metadata": {
    "collapsed": true,
    "jupyter": {
     "outputs_hidden": true
    },
    "tags": []
   },
   "outputs": [
    {
     "name": "stdout",
     "output_type": "stream",
     "text": [
      "\n",
      "    Or(a=a[0],b=sel,out=int01);\n",
      "    Or(a=b[0],b=notSel,out=int02);\n",
      "    And(a=int01,b=int02,out=out[0]);\n",
      "    \n",
      "\n",
      "    Or(a=a[1],b=sel,out=int11);\n",
      "    Or(a=b[1],b=notSel,out=int12);\n",
      "    And(a=int11,b=int12,out=out[1]);\n",
      "    \n",
      "\n",
      "    Or(a=a[2],b=sel,out=int21);\n",
      "    Or(a=b[2],b=notSel,out=int22);\n",
      "    And(a=int21,b=int22,out=out[2]);\n",
      "    \n",
      "\n",
      "    Or(a=a[3],b=sel,out=int31);\n",
      "    Or(a=b[3],b=notSel,out=int32);\n",
      "    And(a=int31,b=int32,out=out[3]);\n",
      "    \n",
      "\n",
      "    Or(a=a[4],b=sel,out=int41);\n",
      "    Or(a=b[4],b=notSel,out=int42);\n",
      "    And(a=int41,b=int42,out=out[4]);\n",
      "    \n",
      "\n",
      "    Or(a=a[5],b=sel,out=int51);\n",
      "    Or(a=b[5],b=notSel,out=int52);\n",
      "    And(a=int51,b=int52,out=out[5]);\n",
      "    \n",
      "\n",
      "    Or(a=a[6],b=sel,out=int61);\n",
      "    Or(a=b[6],b=notSel,out=int62);\n",
      "    And(a=int61,b=int62,out=out[6]);\n",
      "    \n",
      "\n",
      "    Or(a=a[7],b=sel,out=int71);\n",
      "    Or(a=b[7],b=notSel,out=int72);\n",
      "    And(a=int71,b=int72,out=out[7]);\n",
      "    \n",
      "\n",
      "    Or(a=a[8],b=sel,out=int81);\n",
      "    Or(a=b[8],b=notSel,out=int82);\n",
      "    And(a=int81,b=int82,out=out[8]);\n",
      "    \n",
      "\n",
      "    Or(a=a[9],b=sel,out=int91);\n",
      "    Or(a=b[9],b=notSel,out=int92);\n",
      "    And(a=int91,b=int92,out=out[9]);\n",
      "    \n",
      "\n",
      "    Or(a=a[10],b=sel,out=int101);\n",
      "    Or(a=b[10],b=notSel,out=int102);\n",
      "    And(a=int101,b=int102,out=out[10]);\n",
      "    \n",
      "\n",
      "    Or(a=a[11],b=sel,out=int111);\n",
      "    Or(a=b[11],b=notSel,out=int112);\n",
      "    And(a=int111,b=int112,out=out[11]);\n",
      "    \n",
      "\n",
      "    Or(a=a[12],b=sel,out=int121);\n",
      "    Or(a=b[12],b=notSel,out=int122);\n",
      "    And(a=int121,b=int122,out=out[12]);\n",
      "    \n",
      "\n",
      "    Or(a=a[13],b=sel,out=int131);\n",
      "    Or(a=b[13],b=notSel,out=int132);\n",
      "    And(a=int131,b=int132,out=out[13]);\n",
      "    \n",
      "\n",
      "    Or(a=a[14],b=sel,out=int141);\n",
      "    Or(a=b[14],b=notSel,out=int142);\n",
      "    And(a=int141,b=int142,out=out[14]);\n",
      "    \n",
      "\n",
      "    Or(a=a[15],b=sel,out=int151);\n",
      "    Or(a=b[15],b=notSel,out=int152);\n",
      "    And(a=int151,b=int152,out=out[15]);\n",
      "    \n"
     ]
    }
   ],
   "source": [
    "#The body for Mux16 minus the standalone Not \n",
    "for i in range(16):\n",
    "    print(f\"\"\"\n",
    "    Or(a=a[{i}],b=sel,out=int{i}{1});\n",
    "    Or(a=b[{i}],b=notSel,out=int{i}{2});\n",
    "    And(a=int{i}{1},b=int{i}{2},out=out[{i}]);\n",
    "    \"\"\")"
   ]
  },
  {
   "cell_type": "markdown",
   "id": "d38cdd8c-f292-470a-845c-142e3cd3beb5",
   "metadata": {},
   "source": [
    "### Or8Way"
   ]
  },
  {
   "cell_type": "code",
   "execution_count": 19,
   "id": "8b34e69a-e9ac-47de-939e-79ac5cd879c6",
   "metadata": {},
   "outputs": [
    {
     "name": "stdout",
     "output_type": "stream",
     "text": [
      "\n",
      "        Or(a=in[0],b=in[1],out=or01);\n",
      "        \n",
      "\n",
      "        Or(a=or01,b=in[2],out=or12);\n",
      "          \n",
      "\n",
      "        Or(a=or12,b=in[3],out=or23);\n",
      "          \n",
      "\n",
      "        Or(a=or23,b=in[4],out=or34);\n",
      "          \n",
      "\n",
      "        Or(a=or34,b=in[5],out=or45);\n",
      "          \n",
      "\n",
      "        Or(a=or45,b=in[6],out=or56);\n",
      "          \n",
      "\n",
      "        Or(a=or56,b=in[7],out=or67);\n",
      "          \n"
     ]
    }
   ],
   "source": [
    "print(f\"\"\"\n",
    "        Or(a=in[0],b=in[1],out=or01);\n",
    "        \"\"\")\n",
    "for i in range(1,7):\n",
    "    print(f\"\"\"\n",
    "        Or(a=or{i-1}{i},b=in[{i+1}],out=or{i}{i+1});\n",
    "          \"\"\")\n",
    "#Replace or67 with out"
   ]
  },
  {
   "cell_type": "markdown",
   "id": "ef271e9d-c521-4d3d-b97a-a6c122b22bb8",
   "metadata": {},
   "source": [
    "### Mux4Way16"
   ]
  },
  {
   "cell_type": "code",
   "execution_count": 22,
   "id": "86655135-adda-4291-bfb3-a9336dfb45cf",
   "metadata": {},
   "outputs": [
    {
     "name": "stdout",
     "output_type": "stream",
     "text": [
      "\n",
      "    Mux(a=a[0],b=b[0],sel=sel[0],out=outAB0);\n",
      "    Mux(a=c[0],b=d[0],sel=sel[0],out=outCD0);\n",
      "    Mux(a=outAB0,b=outCD0,sel=sel[1],out=out[0]);\n",
      "\n",
      "    Mux(a=a[1],b=b[1],sel=sel[0],out=outAB1);\n",
      "    Mux(a=c[1],b=d[1],sel=sel[0],out=outCD1);\n",
      "    Mux(a=outAB1,b=outCD1,sel=sel[1],out=out[1]);\n",
      "\n",
      "    Mux(a=a[2],b=b[2],sel=sel[0],out=outAB2);\n",
      "    Mux(a=c[2],b=d[2],sel=sel[0],out=outCD2);\n",
      "    Mux(a=outAB2,b=outCD2,sel=sel[1],out=out[2]);\n",
      "\n",
      "    Mux(a=a[3],b=b[3],sel=sel[0],out=outAB3);\n",
      "    Mux(a=c[3],b=d[3],sel=sel[0],out=outCD3);\n",
      "    Mux(a=outAB3,b=outCD3,sel=sel[1],out=out[3]);\n",
      "\n",
      "    Mux(a=a[4],b=b[4],sel=sel[0],out=outAB4);\n",
      "    Mux(a=c[4],b=d[4],sel=sel[0],out=outCD4);\n",
      "    Mux(a=outAB4,b=outCD4,sel=sel[1],out=out[4]);\n",
      "\n",
      "    Mux(a=a[5],b=b[5],sel=sel[0],out=outAB5);\n",
      "    Mux(a=c[5],b=d[5],sel=sel[0],out=outCD5);\n",
      "    Mux(a=outAB5,b=outCD5,sel=sel[1],out=out[5]);\n",
      "\n",
      "    Mux(a=a[6],b=b[6],sel=sel[0],out=outAB6);\n",
      "    Mux(a=c[6],b=d[6],sel=sel[0],out=outCD6);\n",
      "    Mux(a=outAB6,b=outCD6,sel=sel[1],out=out[6]);\n",
      "\n",
      "    Mux(a=a[7],b=b[7],sel=sel[0],out=outAB7);\n",
      "    Mux(a=c[7],b=d[7],sel=sel[0],out=outCD7);\n",
      "    Mux(a=outAB7,b=outCD7,sel=sel[1],out=out[7]);\n",
      "\n",
      "    Mux(a=a[8],b=b[8],sel=sel[0],out=outAB8);\n",
      "    Mux(a=c[8],b=d[8],sel=sel[0],out=outCD8);\n",
      "    Mux(a=outAB8,b=outCD8,sel=sel[1],out=out[8]);\n",
      "\n",
      "    Mux(a=a[9],b=b[9],sel=sel[0],out=outAB9);\n",
      "    Mux(a=c[9],b=d[9],sel=sel[0],out=outCD9);\n",
      "    Mux(a=outAB9,b=outCD9,sel=sel[1],out=out[9]);\n",
      "\n",
      "    Mux(a=a[10],b=b[10],sel=sel[0],out=outAB10);\n",
      "    Mux(a=c[10],b=d[10],sel=sel[0],out=outCD10);\n",
      "    Mux(a=outAB10,b=outCD10,sel=sel[1],out=out[10]);\n",
      "\n",
      "    Mux(a=a[11],b=b[11],sel=sel[0],out=outAB11);\n",
      "    Mux(a=c[11],b=d[11],sel=sel[0],out=outCD11);\n",
      "    Mux(a=outAB11,b=outCD11,sel=sel[1],out=out[11]);\n",
      "\n",
      "    Mux(a=a[12],b=b[12],sel=sel[0],out=outAB12);\n",
      "    Mux(a=c[12],b=d[12],sel=sel[0],out=outCD12);\n",
      "    Mux(a=outAB12,b=outCD12,sel=sel[1],out=out[12]);\n",
      "\n",
      "    Mux(a=a[13],b=b[13],sel=sel[0],out=outAB13);\n",
      "    Mux(a=c[13],b=d[13],sel=sel[0],out=outCD13);\n",
      "    Mux(a=outAB13,b=outCD13,sel=sel[1],out=out[13]);\n",
      "\n",
      "    Mux(a=a[14],b=b[14],sel=sel[0],out=outAB14);\n",
      "    Mux(a=c[14],b=d[14],sel=sel[0],out=outCD14);\n",
      "    Mux(a=outAB14,b=outCD14,sel=sel[1],out=out[14]);\n",
      "\n",
      "    Mux(a=a[15],b=b[15],sel=sel[0],out=outAB15);\n",
      "    Mux(a=c[15],b=d[15],sel=sel[0],out=outCD15);\n",
      "    Mux(a=outAB15,b=outCD15,sel=sel[1],out=out[15]);\n"
     ]
    }
   ],
   "source": [
    "for i in range(16):\n",
    "    print(f\"\"\"\n",
    "    Mux(a=a[{i}],b=b[{i}],sel=sel[0],out=outAB{i});\n",
    "    Mux(a=c[{i}],b=d[{i}],sel=sel[0],out=outCD{i});\n",
    "    Mux(a=outAB{i},b=outCD{i},sel=sel[1],out=out[{i}]);\"\"\")"
   ]
  },
  {
   "cell_type": "code",
   "execution_count": null,
   "id": "39226f96-8015-44ad-8a94-63546a7c3023",
   "metadata": {},
   "outputs": [],
   "source": []
  }
 ],
 "metadata": {
  "kernelspec": {
   "display_name": "Python 3 (ipykernel)",
   "language": "python",
   "name": "python3"
  },
  "language_info": {
   "codemirror_mode": {
    "name": "ipython",
    "version": 3
   },
   "file_extension": ".py",
   "mimetype": "text/x-python",
   "name": "python",
   "nbconvert_exporter": "python",
   "pygments_lexer": "ipython3",
   "version": "3.11.4"
  }
 },
 "nbformat": 4,
 "nbformat_minor": 5
}
